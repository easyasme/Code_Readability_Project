{
  "nbformat": 4,
  "nbformat_minor": 0,
  "metadata": {
    "colab": {
      "provenance": []
    },
    "kernelspec": {
      "name": "python3",
      "display_name": "Python 3"
    },
    "language_info": {
      "name": "python"
    }
  },
  "cells": [
    {
      "cell_type": "code",
      "execution_count": 2,
      "metadata": {
        "id": "uGwS0jDUtuAl"
      },
      "outputs": [],
      "source": [
        "from sklearn.naive_bayes import GaussianNB\n",
        "from sklearn.tree import DecisionTreeClassifier\n",
        "import numpy as np\n",
        "import pandas as pd\n",
        "import matplotlib.pyplot as plt\n",
        "from sklearn.model_selection import train_test_split\n",
        "from sklearn.preprocessing import LabelEncoder\n",
        "from sklearn.metrics import accuracy_score, classification_report"
      ]
    },
    {
      "cell_type": "code",
      "source": [
        "from google.colab import drive\n",
        "drive.mount('/content/drive')"
      ],
      "metadata": {
        "id": "UL36C900uGl1"
      },
      "execution_count": null,
      "outputs": []
    },
    {
      "cell_type": "code",
      "source": [
        "df = pd.read_csv('/content/drive/MyDrive/Colab Notebooks/code_pypi_readability_complete.csv', delimiter=',')\n",
        "\n",
        "# Drop unfinished samples\n",
        "# df = df.dropna(subset=['Readability Category'])\n",
        "\n",
        "TARGET = 'Readability Category'\n",
        "df[TARGET] = df[TARGET].replace({0: 0, 1: 0, 2: 1, 3: 2, 4: 2})\n",
        "\n",
        "# Fill missing values (?) with the mean of the respective columns\n",
        "df['Style Guide Adherence'] = pd.to_numeric(df['Style Guide Adherence'], errors='coerce')\n",
        "df['Complexity Score'] = pd.to_numeric(df['Complexity Score'], errors='coerce')\n",
        "df['Style Guide Adherence'] = df['Style Guide Adherence'].fillna(df['Style Guide Adherence'].mean())\n",
        "df['Complexity Score'] = df['Complexity Score'].fillna(df['Complexity Score'].mean())\n",
        "\n",
        "# Drop rows with missing data\n",
        "# df = df.dropna()\n",
        "\n",
        "# Drop unrelated columms\n",
        "df = df.drop(['#', 'Readability'], axis=1)\n",
        "\n",
        "label_encoder = LabelEncoder()\n",
        "df['Comment Ratio'] = label_encoder.fit_transform(df['Comment Ratio'])\n",
        "\n",
        "X = df.drop(TARGET, axis=1)\n",
        "y = df[TARGET]\n",
        "\n",
        "X_train, X_test, y_train, y_test = train_test_split(X, y, test_size=0.2, random_state=42)\n",
        "\n",
        "nb_classifier = DecisionTreeClassifier()\n",
        "nb_classifier.fit(X_train, y_train)\n",
        "y_pred = nb_classifier.predict(X_test)\n",
        "\n",
        "accuracy = accuracy_score(y_test, y_pred)\n",
        "print(f\"Accuracy: {accuracy * 100:.2f}%\")\n",
        "\n",
        "print(\"Classification Report:\")\n",
        "print(classification_report(y_test, y_pred))\n"
      ],
      "metadata": {
        "colab": {
          "base_uri": "https://localhost:8080/"
        },
        "id": "_38QQtSquMNZ",
        "outputId": "100a7217-8d1d-4483-ec28-c5d3280388f1"
      },
      "execution_count": 6,
      "outputs": [
        {
          "output_type": "stream",
          "name": "stdout",
          "text": [
            "Accuracy: 60.00%\n",
            "Classification Report:\n",
            "              precision    recall  f1-score   support\n",
            "\n",
            "           0       0.44      0.41      0.42        17\n",
            "           1       0.39      0.55      0.45        22\n",
            "           2       0.77      0.67      0.72        61\n",
            "\n",
            "    accuracy                           0.60       100\n",
            "   macro avg       0.53      0.54      0.53       100\n",
            "weighted avg       0.63      0.60      0.61       100\n",
            "\n"
          ]
        }
      ]
    }
  ]
}